{
  "nbformat": 4,
  "nbformat_minor": 0,
  "metadata": {
    "colab": {
      "provenance": []
    },
    "kernelspec": {
      "name": "python3",
      "display_name": "Python 3"
    },
    "language_info": {
      "name": "python"
    },
    "gpuClass": "standard"
  },
  "cells": [
    {
      "cell_type": "code",
      "execution_count": 1,
      "metadata": {
        "colab": {
          "base_uri": "https://localhost:8080/"
        },
        "id": "F-Q55-U4nQTI",
        "outputId": "b07bf4e8-c430-4db8-b9e1-e5b6f482b0ad"
      },
      "outputs": [
        {
          "output_type": "stream",
          "name": "stdout",
          "text": [
            "Cloning into 's-vae-pytorch'...\n",
            "remote: Enumerating objects: 107, done.\u001b[K\n",
            "remote: Counting objects: 100% (9/9), done.\u001b[K\n",
            "remote: Compressing objects: 100% (9/9), done.\u001b[K\n",
            "remote: Total 107 (delta 0), reused 5 (delta 0), pack-reused 98\u001b[K\n",
            "Receiving objects: 100% (107/107), 29.69 KiB | 4.95 MiB/s, done.\n",
            "Resolving deltas: 100% (40/40), done.\n"
          ]
        }
      ],
      "source": [
        "!git clone https://github.com/nicola-decao/s-vae-pytorch.git"
      ]
    },
    {
      "cell_type": "code",
      "source": [
        "!python s-vae-pytorch/setup.py install"
      ],
      "metadata": {
        "colab": {
          "base_uri": "https://localhost:8080/"
        },
        "id": "xwNDWF3DnX5s",
        "outputId": "58949dd3-4db7-45e5-c947-98ab8ec79397"
      },
      "execution_count": 2,
      "outputs": [
        {
          "output_type": "stream",
          "name": "stdout",
          "text": [
            "running install\n",
            "/usr/local/lib/python3.9/dist-packages/setuptools/command/install.py:34: SetuptoolsDeprecationWarning: setup.py install is deprecated. Use build and pip and other standards-based tools.\n",
            "  warnings.warn(\n",
            "/usr/local/lib/python3.9/dist-packages/setuptools/command/easy_install.py:144: EasyInstallDeprecationWarning: easy_install command is deprecated. Use build and pip and other standards-based tools.\n",
            "  warnings.warn(\n",
            "running bdist_egg\n",
            "running egg_info\n",
            "creating hyperspherical_vae.egg-info\n",
            "writing hyperspherical_vae.egg-info/PKG-INFO\n",
            "writing dependency_links to hyperspherical_vae.egg-info/dependency_links.txt\n",
            "writing requirements to hyperspherical_vae.egg-info/requires.txt\n",
            "writing top-level names to hyperspherical_vae.egg-info/top_level.txt\n",
            "writing manifest file 'hyperspherical_vae.egg-info/SOURCES.txt'\n",
            "reading manifest file 'hyperspherical_vae.egg-info/SOURCES.txt'\n",
            "writing manifest file 'hyperspherical_vae.egg-info/SOURCES.txt'\n",
            "installing library code to build/bdist.linux-x86_64/egg\n",
            "running install_lib\n",
            "warning: install_lib: 'build/lib' does not exist -- no Python modules to install\n",
            "\n",
            "creating build\n",
            "creating build/bdist.linux-x86_64\n",
            "creating build/bdist.linux-x86_64/egg\n",
            "creating build/bdist.linux-x86_64/egg/EGG-INFO\n",
            "copying hyperspherical_vae.egg-info/PKG-INFO -> build/bdist.linux-x86_64/egg/EGG-INFO\n",
            "copying hyperspherical_vae.egg-info/SOURCES.txt -> build/bdist.linux-x86_64/egg/EGG-INFO\n",
            "copying hyperspherical_vae.egg-info/dependency_links.txt -> build/bdist.linux-x86_64/egg/EGG-INFO\n",
            "copying hyperspherical_vae.egg-info/requires.txt -> build/bdist.linux-x86_64/egg/EGG-INFO\n",
            "copying hyperspherical_vae.egg-info/top_level.txt -> build/bdist.linux-x86_64/egg/EGG-INFO\n",
            "zip_safe flag not set; analyzing archive contents...\n",
            "creating dist\n",
            "creating 'dist/hyperspherical_vae-0.1.1-py3.9.egg' and adding 'build/bdist.linux-x86_64/egg' to it\n",
            "removing 'build/bdist.linux-x86_64/egg' (and everything under it)\n",
            "Processing hyperspherical_vae-0.1.1-py3.9.egg\n",
            "Copying hyperspherical_vae-0.1.1-py3.9.egg to /usr/local/lib/python3.9/dist-packages\n",
            "Adding hyperspherical-vae 0.1.1 to easy-install.pth file\n",
            "\n",
            "Installed /usr/local/lib/python3.9/dist-packages/hyperspherical_vae-0.1.1-py3.9.egg\n",
            "Processing dependencies for hyperspherical-vae==0.1.1\n",
            "Searching for numpy==1.22.4\n",
            "Best match: numpy 1.22.4\n",
            "Adding numpy 1.22.4 to easy-install.pth file\n",
            "Installing f2py script to /usr/local/bin\n",
            "Installing f2py3 script to /usr/local/bin\n",
            "Installing f2py3.9 script to /usr/local/bin\n",
            "\n",
            "Using /usr/local/lib/python3.9/dist-packages\n",
            "Searching for scipy==1.10.1\n",
            "Best match: scipy 1.10.1\n",
            "Adding scipy 1.10.1 to easy-install.pth file\n",
            "\n",
            "Using /usr/local/lib/python3.9/dist-packages\n",
            "Searching for torch==2.0.0+cu118\n",
            "Best match: torch 2.0.0+cu118\n",
            "Adding torch 2.0.0+cu118 to easy-install.pth file\n",
            "Installing convert-caffe2-to-onnx script to /usr/local/bin\n",
            "Installing convert-onnx-to-caffe2 script to /usr/local/bin\n",
            "Installing torchrun script to /usr/local/bin\n",
            "\n",
            "Using /usr/local/lib/python3.9/dist-packages\n",
            "Searching for triton==2.0.0\n",
            "Best match: triton 2.0.0\n",
            "Adding triton 2.0.0 to easy-install.pth file\n",
            "\n",
            "Using /usr/local/lib/python3.9/dist-packages\n",
            "Searching for Jinja2==3.1.2\n",
            "Best match: Jinja2 3.1.2\n",
            "Adding Jinja2 3.1.2 to easy-install.pth file\n",
            "\n",
            "Using /usr/local/lib/python3.9/dist-packages\n",
            "Searching for networkx==3.0\n",
            "Best match: networkx 3.0\n",
            "Adding networkx 3.0 to easy-install.pth file\n",
            "\n",
            "Using /usr/local/lib/python3.9/dist-packages\n",
            "Searching for sympy==1.11.1\n",
            "Best match: sympy 1.11.1\n",
            "Adding sympy 1.11.1 to easy-install.pth file\n",
            "Installing isympy script to /usr/local/bin\n",
            "\n",
            "Using /usr/local/lib/python3.9/dist-packages\n",
            "Searching for typing-extensions==4.5.0\n",
            "Best match: typing-extensions 4.5.0\n",
            "Adding typing-extensions 4.5.0 to easy-install.pth file\n",
            "\n",
            "Using /usr/local/lib/python3.9/dist-packages\n",
            "Searching for filelock==3.10.7\n",
            "Best match: filelock 3.10.7\n",
            "Adding filelock 3.10.7 to easy-install.pth file\n",
            "\n",
            "Using /usr/local/lib/python3.9/dist-packages\n",
            "Searching for lit==16.0.0\n",
            "Best match: lit 16.0.0\n",
            "Adding lit 16.0.0 to easy-install.pth file\n",
            "Installing lit script to /usr/local/bin\n",
            "\n",
            "Using /usr/local/lib/python3.9/dist-packages\n",
            "Searching for cmake==3.25.2\n",
            "Best match: cmake 3.25.2\n",
            "Adding cmake 3.25.2 to easy-install.pth file\n",
            "Installing cmake script to /usr/local/bin\n",
            "Installing cpack script to /usr/local/bin\n",
            "Installing ctest script to /usr/local/bin\n",
            "\n",
            "Using /usr/local/lib/python3.9/dist-packages\n",
            "Searching for MarkupSafe==2.1.2\n",
            "Best match: MarkupSafe 2.1.2\n",
            "Adding MarkupSafe 2.1.2 to easy-install.pth file\n",
            "\n",
            "Using /usr/local/lib/python3.9/dist-packages\n",
            "Searching for mpmath==1.3.0\n",
            "Best match: mpmath 1.3.0\n",
            "Adding mpmath 1.3.0 to easy-install.pth file\n",
            "\n",
            "Using /usr/local/lib/python3.9/dist-packages\n",
            "Finished processing dependencies for hyperspherical-vae==0.1.1\n"
          ]
        }
      ]
    },
    {
      "cell_type": "code",
      "source": [
        "!pip install scanpy"
      ],
      "metadata": {
        "colab": {
          "base_uri": "https://localhost:8080/"
        },
        "id": "D9oQgpMRJTN3",
        "outputId": "188f2bb1-16d5-400e-ed1e-4cdae3109f6d"
      },
      "execution_count": 3,
      "outputs": [
        {
          "output_type": "stream",
          "name": "stdout",
          "text": [
            "Looking in indexes: https://pypi.org/simple, https://us-python.pkg.dev/colab-wheels/public/simple/\n",
            "Collecting scanpy\n",
            "  Downloading scanpy-1.9.3-py3-none-any.whl (2.0 MB)\n",
            "\u001b[2K     \u001b[90m━━━━━━━━━━━━━━━━━━━━━━━━━━━━━━━━━━━━━━━━\u001b[0m \u001b[32m2.0/2.0 MB\u001b[0m \u001b[31m19.6 MB/s\u001b[0m eta \u001b[36m0:00:00\u001b[0m\n",
            "\u001b[?25hRequirement already satisfied: seaborn in /usr/local/lib/python3.9/dist-packages (from scanpy) (0.12.2)\n",
            "Collecting session-info\n",
            "  Downloading session_info-1.0.0.tar.gz (24 kB)\n",
            "  Preparing metadata (setup.py) ... \u001b[?25l\u001b[?25hdone\n",
            "Requirement already satisfied: numpy>=1.17.0 in /usr/local/lib/python3.9/dist-packages (from scanpy) (1.22.4)\n",
            "Requirement already satisfied: scipy>=1.4 in /usr/local/lib/python3.9/dist-packages (from scanpy) (1.10.1)\n",
            "Requirement already satisfied: scikit-learn>=0.22 in /usr/local/lib/python3.9/dist-packages (from scanpy) (1.2.2)\n",
            "Collecting umap-learn>=0.3.10\n",
            "  Downloading umap-learn-0.5.3.tar.gz (88 kB)\n",
            "\u001b[2K     \u001b[90m━━━━━━━━━━━━━━━━━━━━━━━━━━━━━━━━━━━━━━━━\u001b[0m \u001b[32m88.2/88.2 KB\u001b[0m \u001b[31m11.0 MB/s\u001b[0m eta \u001b[36m0:00:00\u001b[0m\n",
            "\u001b[?25h  Preparing metadata (setup.py) ... \u001b[?25l\u001b[?25hdone\n",
            "Requirement already satisfied: h5py>=3 in /usr/local/lib/python3.9/dist-packages (from scanpy) (3.8.0)\n",
            "Requirement already satisfied: matplotlib>=3.4 in /usr/local/lib/python3.9/dist-packages (from scanpy) (3.7.1)\n",
            "Requirement already satisfied: pandas>=1.0 in /usr/local/lib/python3.9/dist-packages (from scanpy) (1.4.4)\n",
            "Requirement already satisfied: patsy in /usr/local/lib/python3.9/dist-packages (from scanpy) (0.5.3)\n",
            "Requirement already satisfied: tqdm in /usr/local/lib/python3.9/dist-packages (from scanpy) (4.65.0)\n",
            "Requirement already satisfied: statsmodels>=0.10.0rc2 in /usr/local/lib/python3.9/dist-packages (from scanpy) (0.13.5)\n",
            "Collecting anndata>=0.7.4\n",
            "  Downloading anndata-0.8.0-py3-none-any.whl (96 kB)\n",
            "\u001b[2K     \u001b[90m━━━━━━━━━━━━━━━━━━━━━━━━━━━━━━━━━━━━━━━━\u001b[0m \u001b[32m96.1/96.1 KB\u001b[0m \u001b[31m8.7 MB/s\u001b[0m eta \u001b[36m0:00:00\u001b[0m\n",
            "\u001b[?25hRequirement already satisfied: numba>=0.41.0 in /usr/local/lib/python3.9/dist-packages (from scanpy) (0.56.4)\n",
            "Requirement already satisfied: natsort in /usr/local/lib/python3.9/dist-packages (from scanpy) (8.3.1)\n",
            "Requirement already satisfied: packaging in /usr/local/lib/python3.9/dist-packages (from scanpy) (23.0)\n",
            "Requirement already satisfied: joblib in /usr/local/lib/python3.9/dist-packages (from scanpy) (1.1.1)\n",
            "Requirement already satisfied: networkx>=2.3 in /usr/local/lib/python3.9/dist-packages (from scanpy) (3.0)\n",
            "Requirement already satisfied: kiwisolver>=1.0.1 in /usr/local/lib/python3.9/dist-packages (from matplotlib>=3.4->scanpy) (1.4.4)\n",
            "Requirement already satisfied: cycler>=0.10 in /usr/local/lib/python3.9/dist-packages (from matplotlib>=3.4->scanpy) (0.11.0)\n",
            "Requirement already satisfied: pyparsing>=2.3.1 in /usr/local/lib/python3.9/dist-packages (from matplotlib>=3.4->scanpy) (3.0.9)\n",
            "Requirement already satisfied: importlib-resources>=3.2.0 in /usr/local/lib/python3.9/dist-packages (from matplotlib>=3.4->scanpy) (5.12.0)\n",
            "Requirement already satisfied: fonttools>=4.22.0 in /usr/local/lib/python3.9/dist-packages (from matplotlib>=3.4->scanpy) (4.39.3)\n",
            "Requirement already satisfied: pillow>=6.2.0 in /usr/local/lib/python3.9/dist-packages (from matplotlib>=3.4->scanpy) (8.4.0)\n",
            "Requirement already satisfied: contourpy>=1.0.1 in /usr/local/lib/python3.9/dist-packages (from matplotlib>=3.4->scanpy) (1.0.7)\n",
            "Requirement already satisfied: python-dateutil>=2.7 in /usr/local/lib/python3.9/dist-packages (from matplotlib>=3.4->scanpy) (2.8.2)\n",
            "Requirement already satisfied: llvmlite<0.40,>=0.39.0dev0 in /usr/local/lib/python3.9/dist-packages (from numba>=0.41.0->scanpy) (0.39.1)\n",
            "Requirement already satisfied: setuptools in /usr/local/lib/python3.9/dist-packages (from numba>=0.41.0->scanpy) (67.6.1)\n",
            "Requirement already satisfied: pytz>=2020.1 in /usr/local/lib/python3.9/dist-packages (from pandas>=1.0->scanpy) (2022.7.1)\n",
            "Requirement already satisfied: threadpoolctl>=2.0.0 in /usr/local/lib/python3.9/dist-packages (from scikit-learn>=0.22->scanpy) (3.1.0)\n",
            "Requirement already satisfied: six in /usr/local/lib/python3.9/dist-packages (from patsy->scanpy) (1.16.0)\n",
            "Collecting pynndescent>=0.5\n",
            "  Downloading pynndescent-0.5.8.tar.gz (1.1 MB)\n",
            "\u001b[2K     \u001b[90m━━━━━━━━━━━━━━━━━━━━━━━━━━━━━━━━━━━━━━━━\u001b[0m \u001b[32m1.1/1.1 MB\u001b[0m \u001b[31m65.2 MB/s\u001b[0m eta \u001b[36m0:00:00\u001b[0m\n",
            "\u001b[?25h  Preparing metadata (setup.py) ... \u001b[?25l\u001b[?25hdone\n",
            "Collecting stdlib_list\n",
            "  Downloading stdlib_list-0.8.0-py3-none-any.whl (63 kB)\n",
            "\u001b[2K     \u001b[90m━━━━━━━━━━━━━━━━━━━━━━━━━━━━━━━━━━━━━━━━\u001b[0m \u001b[32m63.5/63.5 KB\u001b[0m \u001b[31m7.6 MB/s\u001b[0m eta \u001b[36m0:00:00\u001b[0m\n",
            "\u001b[?25hRequirement already satisfied: zipp>=3.1.0 in /usr/local/lib/python3.9/dist-packages (from importlib-resources>=3.2.0->matplotlib>=3.4->scanpy) (3.15.0)\n",
            "Building wheels for collected packages: umap-learn, session-info, pynndescent\n",
            "  Building wheel for umap-learn (setup.py) ... \u001b[?25l\u001b[?25hdone\n",
            "  Created wheel for umap-learn: filename=umap_learn-0.5.3-py3-none-any.whl size=82830 sha256=003df4403150e17b9889766c3b267a48f50ad1b4fd30d5a2cdf919cd47b85482\n",
            "  Stored in directory: /root/.cache/pip/wheels/f4/3e/1c/596d0a463d17475af648688443fa4846fef624d1390339e7e9\n",
            "  Building wheel for session-info (setup.py) ... \u001b[?25l\u001b[?25hdone\n",
            "  Created wheel for session-info: filename=session_info-1.0.0-py3-none-any.whl size=8042 sha256=04e54b834d4ac9594e2403b1e94a155f6af18164d1aed76931a29e28309cd12e\n",
            "  Stored in directory: /root/.cache/pip/wheels/d4/fc/2e/00ca60bac7954b84907efd41baa9b4853500eaeec4228410c6\n",
            "  Building wheel for pynndescent (setup.py) ... \u001b[?25l\u001b[?25hdone\n",
            "  Created wheel for pynndescent: filename=pynndescent-0.5.8-py3-none-any.whl size=55509 sha256=8d68611fb85ab260f3b46022e3dcfe432e1e6cca53d19e4284617fe9a9977101\n",
            "  Stored in directory: /root/.cache/pip/wheels/b9/89/cc/59ab91ef5b21dc2ab3635528d7d227f49dfc9169905dcb959d\n",
            "Successfully built umap-learn session-info pynndescent\n",
            "Installing collected packages: stdlib_list, session-info, pynndescent, anndata, umap-learn, scanpy\n",
            "Successfully installed anndata-0.8.0 pynndescent-0.5.8 scanpy-1.9.3 session-info-1.0.0 stdlib_list-0.8.0 umap-learn-0.5.3\n"
          ]
        }
      ]
    },
    {
      "cell_type": "code",
      "source": [
        "!pip3 install bbknn"
      ],
      "metadata": {
        "colab": {
          "base_uri": "https://localhost:8080/"
        },
        "id": "ojvzqSBcQOLf",
        "outputId": "02213233-52d6-430b-97c4-192381bac52e"
      },
      "execution_count": 4,
      "outputs": [
        {
          "output_type": "stream",
          "name": "stdout",
          "text": [
            "Looking in indexes: https://pypi.org/simple, https://us-python.pkg.dev/colab-wheels/public/simple/\n",
            "Collecting bbknn\n",
            "  Downloading bbknn-1.5.1-py3-none-any.whl (11 kB)\n",
            "Requirement already satisfied: Cython in /usr/local/lib/python3.9/dist-packages (from bbknn) (0.29.34)\n",
            "Requirement already satisfied: packaging in /usr/local/lib/python3.9/dist-packages (from bbknn) (23.0)\n",
            "Requirement already satisfied: numpy in /usr/local/lib/python3.9/dist-packages (from bbknn) (1.22.4)\n",
            "Requirement already satisfied: umap-learn in /usr/local/lib/python3.9/dist-packages (from bbknn) (0.5.3)\n",
            "Requirement already satisfied: scipy in /usr/local/lib/python3.9/dist-packages (from bbknn) (1.10.1)\n",
            "Requirement already satisfied: pynndescent in /usr/local/lib/python3.9/dist-packages (from bbknn) (0.5.8)\n",
            "Collecting annoy\n",
            "  Downloading annoy-1.17.1.tar.gz (647 kB)\n",
            "\u001b[2K     \u001b[90m━━━━━━━━━━━━━━━━━━━━━━━━━━━━━━━━━━━━━━\u001b[0m \u001b[32m648.0/648.0 KB\u001b[0m \u001b[31m10.7 MB/s\u001b[0m eta \u001b[36m0:00:00\u001b[0m\n",
            "\u001b[?25h  Preparing metadata (setup.py) ... \u001b[?25l\u001b[?25hdone\n",
            "Requirement already satisfied: scikit-learn in /usr/local/lib/python3.9/dist-packages (from bbknn) (1.2.2)\n",
            "Requirement already satisfied: llvmlite>=0.30 in /usr/local/lib/python3.9/dist-packages (from pynndescent->bbknn) (0.39.1)\n",
            "Requirement already satisfied: joblib>=0.11 in /usr/local/lib/python3.9/dist-packages (from pynndescent->bbknn) (1.1.1)\n",
            "Requirement already satisfied: numba>=0.51.2 in /usr/local/lib/python3.9/dist-packages (from pynndescent->bbknn) (0.56.4)\n",
            "Requirement already satisfied: threadpoolctl>=2.0.0 in /usr/local/lib/python3.9/dist-packages (from scikit-learn->bbknn) (3.1.0)\n",
            "Requirement already satisfied: tqdm in /usr/local/lib/python3.9/dist-packages (from umap-learn->bbknn) (4.65.0)\n",
            "Requirement already satisfied: setuptools in /usr/local/lib/python3.9/dist-packages (from numba>=0.51.2->pynndescent->bbknn) (67.6.1)\n",
            "Building wheels for collected packages: annoy\n",
            "  Building wheel for annoy (setup.py) ... \u001b[?25l\u001b[?25hdone\n",
            "  Created wheel for annoy: filename=annoy-1.17.1-cp39-cp39-linux_x86_64.whl size=582307 sha256=23cfb04c53056edc2e4705f3f7270dd88f04df8ca2feba4c7895055779f5ade7\n",
            "  Stored in directory: /root/.cache/pip/wheels/5b/7d/31/9a9a4993d085bc85bee21946bce94cd5906ce99730f5467e57\n",
            "Successfully built annoy\n",
            "Installing collected packages: annoy, bbknn\n",
            "Successfully installed annoy-1.17.1 bbknn-1.5.1\n"
          ]
        }
      ]
    },
    {
      "cell_type": "code",
      "source": [
        "import sys as sys\n",
        "print(sys.path)\n",
        "\n",
        "sys.path.append(\"/content/s-vae-pytorch\")"
      ],
      "metadata": {
        "colab": {
          "base_uri": "https://localhost:8080/"
        },
        "id": "bY6M5Ecyy-q_",
        "outputId": "af2d3eaf-fa38-4dcd-e2c7-ce67715436f1"
      },
      "execution_count": 5,
      "outputs": [
        {
          "output_type": "stream",
          "name": "stdout",
          "text": [
            "['/content', '/env/python', '/usr/lib/python39.zip', '/usr/lib/python3.9', '/usr/lib/python3.9/lib-dynload', '', '/usr/local/lib/python3.9/dist-packages', '/usr/lib/python3/dist-packages', '/usr/local/lib/python3.9/dist-packages/IPython/extensions', '/root/.ipython']\n"
          ]
        }
      ]
    },
    {
      "cell_type": "code",
      "source": [
        "import numpy as np\n",
        "import os as os\n",
        "import scanpy as sc\n",
        "import torch\n",
        "import torch.nn as nn\n",
        "import torch.nn.functional as F\n",
        "import torch.optim as optim\n",
        "import torch.utils.data\n",
        "from torchvision import datasets, transforms\n",
        "from collections import defaultdict\n",
        "\n",
        "from hyperspherical_vae.distributions import VonMisesFisher\n",
        "from hyperspherical_vae.distributions import HypersphericalUniform"
      ],
      "metadata": {
        "id": "FjGjPkwMyfYY"
      },
      "execution_count": 6,
      "outputs": []
    },
    {
      "cell_type": "code",
      "source": [
        "sc.settings.verbosity = 3             # verbosity: errors (0), warnings (1), info (2), hints (3)\n",
        "sc.logging.print_header()\n",
        "sc.settings.set_figure_params(dpi=80, facecolor='white')"
      ],
      "metadata": {
        "colab": {
          "base_uri": "https://localhost:8080/"
        },
        "id": "VCKS_0RyccEi",
        "outputId": "a9ab4dbe-ebfa-4204-a1af-f8858cfb350b"
      },
      "execution_count": 7,
      "outputs": [
        {
          "output_type": "stream",
          "name": "stdout",
          "text": [
            "scanpy==1.9.3 anndata==0.8.0 umap==0.5.3 numpy==1.22.4 scipy==1.10.1 pandas==1.4.4 scikit-learn==1.2.2 statsmodels==0.13.5 pynndescent==0.5.8\n"
          ]
        }
      ]
    },
    {
      "cell_type": "code",
      "source": [
        "def read_data(filename):\n",
        "  adata = sc.read_h5ad(filename)\n",
        "  return adata"
      ],
      "metadata": {
        "id": "dBlNLreAJcXY"
      },
      "execution_count": 8,
      "outputs": []
    },
    {
      "cell_type": "code",
      "source": [
        "file_path = \"./drive/MyDrive/immune_cell_dataset/\"\n",
        "# data can be myeloid, b_cells, or t_cells\n",
        "data = \"t_cells\"\n",
        "file_path = os.path.join(file_path, data)\n",
        "if data == \"myeloid\":\n",
        "  filename = \"myeloid.h5ad\"\n",
        "elif data == \"b_cells\":\n",
        "  filename = \"b-cells.h5ad\"\n",
        "else:\n",
        "  filename = \"t-cells.h5ad\"\n",
        "file_path = os.path.join(file_path, filename)\n",
        "\n",
        "adata = read_data(file_path)"
      ],
      "metadata": {
        "id": "4JXdxVLVyELl"
      },
      "execution_count": 9,
      "outputs": []
    },
    {
      "cell_type": "code",
      "source": [
        "# adata.X is the cell by gene matrix\n",
        "# myeloid is 51,52 x 36,601\n",
        "# t_cells is 216,611 x 36,601\n",
        "# b_cells is 54,934 x 36,601\n",
        "# dtype is float 32\n",
        "adata.X.shape"
      ],
      "metadata": {
        "colab": {
          "base_uri": "https://localhost:8080/"
        },
        "id": "LTajBgmgLkmO",
        "outputId": "9dfb7e42-a7da-449f-f97f-2f38c9c51c02"
      },
      "execution_count": 10,
      "outputs": [
        {
          "output_type": "execute_result",
          "data": {
            "text/plain": [
              "(216611, 36601)"
            ]
          },
          "metadata": {},
          "execution_count": 10
        }
      ]
    },
    {
      "cell_type": "markdown",
      "source": [
        "Data preprocessing"
      ],
      "metadata": {
        "id": "n-oHwvK3VT4U"
      }
    },
    {
      "cell_type": "code",
      "source": [
        "# Select highly variable genes\n",
        "sc.pp.highly_variable_genes(adata, min_mean=0.0125, max_mean=3, min_disp=0.5)\n",
        "adata = adata[:, adata.var.highly_variable]\n",
        "print(adata.X.shape)\n",
        "# Scale to unit variance and zero mean\n",
        "sc.pp.scale(adata)"
      ],
      "metadata": {
        "id": "LzRxSvlnRGa-",
        "colab": {
          "base_uri": "https://localhost:8080/"
        },
        "outputId": "a5577899-542a-475b-9328-26fb71a390f0"
      },
      "execution_count": 11,
      "outputs": [
        {
          "output_type": "stream",
          "name": "stdout",
          "text": [
            "extracting highly variable genes\n",
            "    finished (0:00:19)\n",
            "--> added\n",
            "    'highly_variable', boolean vector (adata.var)\n",
            "    'means', float vector (adata.var)\n",
            "    'dispersions', float vector (adata.var)\n",
            "    'dispersions_norm', float vector (adata.var)\n",
            "(216611, 1252)\n"
          ]
        },
        {
          "output_type": "stream",
          "name": "stderr",
          "text": [
            "/usr/local/lib/python3.9/dist-packages/scanpy/preprocessing/_simple.py:843: UserWarning: Received a view of an AnnData. Making a copy.\n",
            "  view_to_actual(adata)\n"
          ]
        },
        {
          "output_type": "stream",
          "name": "stdout",
          "text": [
            "... as `zero_center=True`, sparse input is densified and may lead to large memory consumption\n"
          ]
        }
      ]
    },
    {
      "cell_type": "markdown",
      "source": [
        "Get rid of batch effects"
      ],
      "metadata": {
        "id": "OrOcAtxcOGlP"
      }
    },
    {
      "cell_type": "code",
      "source": [
        "import bbknn\n",
        "\n",
        "bbknn.ridge_regression(adata, batch_key=['Chemistry'])"
      ],
      "metadata": {
        "colab": {
          "base_uri": "https://localhost:8080/"
        },
        "id": "vHftXwxDQZEW",
        "outputId": "c7942454-a860-4035-82f4-bfc9a3041be4"
      },
      "execution_count": 12,
      "outputs": [
        {
          "output_type": "stream",
          "name": "stdout",
          "text": [
            "computing ridge regression\n",
            "\tfinished: `.X` now features regression residuals\n",
            "\t`.layers['X_explained']` stores the expression explained by the technical effect (0:00:12)\n"
          ]
        }
      ]
    },
    {
      "cell_type": "markdown",
      "source": [
        "Small dataset below just for testing purposes"
      ],
      "metadata": {
        "id": "G8QtLdJVbtnS"
      }
    },
    {
      "cell_type": "code",
      "source": [
        "!mkdir data"
      ],
      "metadata": {
        "id": "2RsBLfAnJd-y"
      },
      "execution_count": 19,
      "outputs": []
    },
    {
      "cell_type": "code",
      "source": [
        "!mkdir data/filtered_gene_bc_matrices"
      ],
      "metadata": {
        "id": "oe10K6KAbtCa"
      },
      "execution_count": 20,
      "outputs": []
    },
    {
      "cell_type": "code",
      "source": [
        "!mkdir data/filtered_gene_bc_matrices/hg19"
      ],
      "metadata": {
        "id": "uQfHAYi8cAo7"
      },
      "execution_count": 21,
      "outputs": []
    },
    {
      "cell_type": "code",
      "source": [
        "adata = sc.read_10x_mtx(\n",
        "    'data/filtered_gene_bc_matrices/hg19/',  # the directory with the `.mtx` file\n",
        "    var_names='gene_symbols',                # use gene symbols for the variable names (variables-axis index)\n",
        "    cache=True)                              # write a cache file for faster subsequent reading"
      ],
      "metadata": {
        "colab": {
          "base_uri": "https://localhost:8080/"
        },
        "id": "yZtP9KhLcMHy",
        "outputId": "1d8bd56b-e683-4379-da2a-dea28cb082ca"
      },
      "execution_count": 22,
      "outputs": [
        {
          "output_type": "stream",
          "name": "stdout",
          "text": [
            "... writing an h5ad cache file to speedup reading next time\n"
          ]
        }
      ]
    },
    {
      "cell_type": "code",
      "source": [
        "adata.var_names_make_unique()  # this is unnecessary if using `var_names='gene_ids'` in `sc.read_10x_mtx`"
      ],
      "metadata": {
        "id": "C1aLCB5-ctEd"
      },
      "execution_count": 23,
      "outputs": []
    },
    {
      "cell_type": "code",
      "source": [
        "adata"
      ],
      "metadata": {
        "colab": {
          "base_uri": "https://localhost:8080/"
        },
        "id": "l4v5f_kvc3ga",
        "outputId": "4cf88170-3b9a-408a-dfea-5b2ae2aa1707"
      },
      "execution_count": 24,
      "outputs": [
        {
          "output_type": "execute_result",
          "data": {
            "text/plain": [
              "AnnData object with n_obs × n_vars = 2700 × 32738\n",
              "    var: 'gene_ids'"
            ]
          },
          "metadata": {},
          "execution_count": 24
        }
      ]
    },
    {
      "cell_type": "code",
      "source": [
        "sc.pp.filter_cells(adata, min_genes=200)\n",
        "sc.pp.filter_genes(adata, min_cells=3)"
      ],
      "metadata": {
        "colab": {
          "base_uri": "https://localhost:8080/"
        },
        "id": "y-zFqPrUc7AS",
        "outputId": "ac2dcefa-10c9-43e7-b0dd-7789be750c0c"
      },
      "execution_count": 25,
      "outputs": [
        {
          "output_type": "stream",
          "name": "stdout",
          "text": [
            "filtered out 19024 genes that are detected in less than 3 cells\n"
          ]
        }
      ]
    },
    {
      "cell_type": "code",
      "source": [
        "adata.var['mt'] = adata.var_names.str.startswith('MT-')  # annotate the group of mitochondrial genes as 'mt'\n",
        "sc.pp.calculate_qc_metrics(adata, qc_vars=['mt'], percent_top=None, log1p=False, inplace=True)"
      ],
      "metadata": {
        "id": "VcI4kBYnc9qZ"
      },
      "execution_count": 26,
      "outputs": []
    },
    {
      "cell_type": "code",
      "source": [
        "adata = adata[adata.obs.n_genes_by_counts < 2500, :]\n",
        "adata = adata[adata.obs.pct_counts_mt < 5, :]"
      ],
      "metadata": {
        "id": "NCCG-z7kdAJx"
      },
      "execution_count": 27,
      "outputs": []
    },
    {
      "cell_type": "code",
      "source": [
        "sc.pp.normalize_total(adata, target_sum=1e4)"
      ],
      "metadata": {
        "colab": {
          "base_uri": "https://localhost:8080/"
        },
        "id": "7DBojaBhdBux",
        "outputId": "99fe7ab7-b2b1-472f-aaa3-5ea9d9e98e6b"
      },
      "execution_count": 28,
      "outputs": [
        {
          "output_type": "stream",
          "name": "stdout",
          "text": [
            "normalizing counts per cell\n",
            "    finished (0:00:00)\n"
          ]
        },
        {
          "output_type": "stream",
          "name": "stderr",
          "text": [
            "/usr/local/lib/python3.9/dist-packages/scanpy/preprocessing/_normalization.py:170: UserWarning: Received a view of an AnnData. Making a copy.\n",
            "  view_to_actual(adata)\n"
          ]
        }
      ]
    },
    {
      "cell_type": "code",
      "source": [
        "sc.pp.log1p(adata)"
      ],
      "metadata": {
        "id": "omlSu4sxdDPp"
      },
      "execution_count": 29,
      "outputs": []
    },
    {
      "cell_type": "code",
      "source": [
        "sc.pp.highly_variable_genes(adata, min_mean=0.0125, max_mean=3, min_disp=0.5)"
      ],
      "metadata": {
        "colab": {
          "base_uri": "https://localhost:8080/"
        },
        "id": "oKSJXYSCdFjC",
        "outputId": "32ffee26-b4e6-47b9-b2fc-fc2055488e33"
      },
      "execution_count": 30,
      "outputs": [
        {
          "output_type": "stream",
          "name": "stdout",
          "text": [
            "extracting highly variable genes\n",
            "    finished (0:00:00)\n",
            "--> added\n",
            "    'highly_variable', boolean vector (adata.var)\n",
            "    'means', float vector (adata.var)\n",
            "    'dispersions', float vector (adata.var)\n",
            "    'dispersions_norm', float vector (adata.var)\n"
          ]
        }
      ]
    },
    {
      "cell_type": "code",
      "source": [
        "adata.raw = adata"
      ],
      "metadata": {
        "id": "-J0wBntYdInJ"
      },
      "execution_count": 31,
      "outputs": []
    },
    {
      "cell_type": "code",
      "source": [
        "adata = adata[:, adata.var.highly_variable]"
      ],
      "metadata": {
        "id": "9qWRzyGOdKcp"
      },
      "execution_count": 32,
      "outputs": []
    },
    {
      "cell_type": "code",
      "source": [
        "sc.pp.regress_out(adata, ['total_counts', 'pct_counts_mt'])"
      ],
      "metadata": {
        "colab": {
          "base_uri": "https://localhost:8080/"
        },
        "id": "F_54KlgjdMxB",
        "outputId": "ceab3b4b-4624-4efa-d056-64a656ecbf51"
      },
      "execution_count": 33,
      "outputs": [
        {
          "output_type": "stream",
          "name": "stdout",
          "text": [
            "regressing out ['total_counts', 'pct_counts_mt']\n",
            "    sparse input is densified and may lead to high memory use\n",
            "    finished (0:00:10)\n"
          ]
        }
      ]
    },
    {
      "cell_type": "code",
      "source": [
        "sc.pp.scale(adata, max_value=10)"
      ],
      "metadata": {
        "id": "hIi0Qta9dPAy"
      },
      "execution_count": 34,
      "outputs": []
    },
    {
      "cell_type": "code",
      "source": [
        "sc.tl.pca(adata, svd_solver='arpack')\n",
        "sc.pl.pca(adata, color='CST3')\n",
        "sc.pl.pca_variance_ratio(adata, log=True)"
      ],
      "metadata": {
        "colab": {
          "base_uri": "https://localhost:8080/",
          "height": 707
        },
        "id": "vACjs0X3dTwM",
        "outputId": "c407e84a-7ad9-4fe4-a6bb-a7d86ef95d07"
      },
      "execution_count": 35,
      "outputs": [
        {
          "output_type": "stream",
          "name": "stdout",
          "text": [
            "computing PCA\n",
            "    on highly variable genes\n",
            "    with n_comps=50\n",
            "    finished (0:00:01)\n"
          ]
        },
        {
          "output_type": "display_data",
          "data": {
            "text/plain": [
              "<Figure size 320x320 with 2 Axes>"
            ],
            "image/png": "[encoded data removed]"
          },
          "metadata": {
            "image/png": {
              "width": 290,
              "height": 296
            }
          }
        },
        {
          "output_type": "display_data",
          "data": {
            "text/plain": [
              "<Figure size 320x320 with 1 Axes>"
            ],
            "image/png": "[encoded data removed]"
          },
          "metadata": {
            "image/png": {
              "width": 317,
              "height": 321
            }
          }
        }
      ]
    },
    {
      "cell_type": "code",
      "source": [
        "# Originally 2700 x 32738\n",
        "# After preprocessing, 2638 x 1838\n",
        "adata.X.shape"
      ],
      "metadata": {
        "colab": {
          "base_uri": "https://localhost:8080/"
        },
        "id": "T113CdAodhKi",
        "outputId": "e63853fa-31fe-40f8-bce8-9919e7bc3067"
      },
      "execution_count": 36,
      "outputs": [
        {
          "output_type": "execute_result",
          "data": {
            "text/plain": [
              "(2638, 1838)"
            ]
          },
          "metadata": {},
          "execution_count": 36
        }
      ]
    },
    {
      "cell_type": "markdown",
      "source": [
        "Hyperspherical VAE"
      ],
      "metadata": {
        "id": "tFBbd96oQccA"
      }
    },
    {
      "cell_type": "markdown",
      "source": [
        "Model"
      ],
      "metadata": {
        "id": "domJ47-dp09O"
      }
    },
    {
      "cell_type": "code",
      "source": [
        "class ModelVAE(torch.nn.Module):\n",
        "    \n",
        "    def __init__(self, n_gene, z_dim=2,\n",
        "                 encoder_layer=None, decoder_layer=None, activation=F.relu,\n",
        "                 distribution='normal', x=None):\n",
        "        \"\"\"\n",
        "        ModelVAE initializer\n",
        "        :param z_dim: dimension of the latent representation\n",
        "        :encoder_layer: a list containing the units of each layer in the encoder\n",
        "        :decoder_layer: a list containing the units of each layer in the decoder\n",
        "        :param activation: callable activation function\n",
        "        :param distribution: string either `normal` or `vmf`, indicates which distribution to use\n",
        "        \"\"\"\n",
        "        super(ModelVAE, self).__init__()\n",
        "        \n",
        "        if encoder_layer is None:\n",
        "          encoder_layer = [128, 64, 32]\n",
        "        self.encoder_layer = [nn.Linear(n_gene, encoder_layer[0])]\n",
        "        for i in range(1, len(encoder_layer)):\n",
        "            self.encoder_layer.append(nn.Linear(encoder_layer[i-1], encoder_layer[i]))\n",
        "        self.encoder_layer = nn.ModuleList(self.encoder_layer)\n",
        "        \n",
        "        if decoder_layer is None:\n",
        "          decoder_layer = [32, 128]\n",
        "        self.decoder_layer = [nn.Linear(z_dim, decoder_layer[0])]\n",
        "        for i in range(1, len(decoder_layer)):\n",
        "          self.decoder_layer.append(nn.Linear(decoder_layer[i-1], decoder_layer[i]))\n",
        "        self.decoder_layer = nn.ModuleList(self.decoder_layer)\n",
        "\n",
        "        if distribution == \"normal\":\n",
        "          # Output of encoder\n",
        "          self.fc_mean = nn.Linear(encoder_layer[-1], z_dim)\n",
        "          self.fc_var = nn.Linear(encoder_layer[-1], z_dim)\n",
        "          # Output of decoder\n",
        "          self.mu_layer = nn.Linear(decoder_layer[-1], n_gene)\n",
        "          self.var_layer = nn.Linear(decoder_layer[-1], n_gene)\n",
        "        elif distribution == \"vmf\":\n",
        "          # Output of encoder\n",
        "          self.fc_mean = nn.Linear(encoder_layer[-1], z_dim)\n",
        "          self.fc_var = nn.Linear(encoder_layer[-1], 1)\n",
        "          # Output of decoder\n",
        "          self.mu_layer = nn.Linear(decoder_layer[-1], n_gene)\n",
        "          self.var_layer = nn.Linear(decoder_layer[-1], n_gene)\n",
        "        else:\n",
        "          raise NotImplemented\n",
        "\n",
        "        self.z_dim, self.activation, self.distribution = z_dim, activation, distribution\n",
        "        self.n_input_feature = n_gene\n",
        "\n",
        "    def encode(self, x):\n",
        "        # regularizer = torch.\n",
        "        \n",
        "        h = self.encoder_layer[0](x)\n",
        "        h = self.activation(h)\n",
        "        # Add in batch normalization here\n",
        "        for i in range(1, len(self.encoder_layer)):\n",
        "          h = self.encoder_layer[i](h)\n",
        "          h = self.activation(h)\n",
        "          # Add in batch normalization here\n",
        "\n",
        "        if self.distribution == 'normal':\n",
        "            # compute mean and std of the normal distribution\n",
        "            z_mean = self.fc_mean(h)\n",
        "            z_var = F.softplus(self.fc_var(h))\n",
        "        elif self.distribution == 'vmf':\n",
        "            # compute mean and concentration of the von Mises-Fisher\n",
        "            z_mean = self.fc_mean(h)\n",
        "            z_mean = z_mean / z_mean.norm(dim=-1, keepdim=True)\n",
        "            # the `+ 1` prevent collapsing behaviors\n",
        "            z_var = F.softplus(self.fc_var(h)) + 1\n",
        "        else:\n",
        "            raise NotImplemented\n",
        "        \n",
        "        return z_mean, z_var\n",
        "        \n",
        "    def decode(self, z):\n",
        "        # l2 regularization goes here\n",
        "\n",
        "        h = self.decoder_layer[0](z)\n",
        "        h = self.activation(h)\n",
        "        # Add in batch normalization here\n",
        "        for i in range(1, len(self.decoder_layer)):\n",
        "          h = self.decoder_layer[i](h)\n",
        "          h = self.activation(h)\n",
        "          # Add in batch normalization here\n",
        "\n",
        "        mu = self.mu_layer(h)\n",
        "        sigma_square = F.softplus(self.var_layer(h))\n",
        "        sigma_sqare = torch.clip(sigma_square, 1e-6, 1e10)\n",
        "        return mu, sigma_square\n",
        "        \n",
        "    def reparameterize(self, z_mean, z_var):\n",
        "        if self.distribution == 'normal':\n",
        "            q_z = torch.distributions.normal.Normal(z_mean, z_var)\n",
        "            p_z = torch.distributions.normal.Normal(torch.zeros_like(z_mean), torch.ones_like(z_var))\n",
        "        elif self.distribution == 'vmf':\n",
        "            q_z = VonMisesFisher(z_mean, z_var)\n",
        "            p_z = HypersphericalUniform(self.z_dim - 1)\n",
        "        else:\n",
        "            raise NotImplemented\n",
        "\n",
        "        return q_z, p_z\n",
        "        \n",
        "    def forward(self, x): \n",
        "        z_mean, z_var = self.encode(x)\n",
        "        q_z, p_z = self.reparameterize(z_mean, z_var)\n",
        "        z = q_z.rsample()\n",
        "        mu_, sigma_square_ = self.decode(z)\n",
        "        return (z_mean, z_var), (q_z, p_z), z, mu_, sigma_square_"
      ],
      "metadata": {
        "id": "FI1CynEdLG45"
      },
      "execution_count": 88,
      "outputs": []
    },
    {
      "cell_type": "markdown",
      "source": [
        "Log likelihood"
      ],
      "metadata": {
        "id": "H4C5srbaeaLP"
      }
    },
    {
      "cell_type": "code",
      "source": [
        "# def log_likelihood(model, x, n=10):\n",
        "    # \"\"\"\n",
        "    # :param model: model object\n",
        "    # :param optimizer: optimizer object\n",
        "    # :param n: number of MC samples\n",
        "    # :return: MC estimate of log-likelihood\n",
        "    # \"\"\"\n",
        "    # z_mean, z_var = model.encode(x)\n",
        "    # q_z, p_z = model.reparameterize(z_mean, z_var)\n",
        "    # z = q_z.rsample(torch.Size([n]))\n",
        "    # mu_, sigma_square_ = model.decode(z)\n",
        "\n",
        "    # log_p_z = p_z.log_prob(z)\n",
        "\n",
        "    # if model.distribution == 'normal':\n",
        "        # log_p_z = log_p_z.sum(-1)\n",
        "\n",
        "    # log_p_x_z = -nn.BCEWithLogitsLoss(reduction='none')(x_mb_, x.reshape(-1, 784).repeat((n, 1, 1))).sum(-1)\n",
        "    # log_p_x_z = log_likelihood_nb(x, mu_, sigma_square_).sum(-1)\n",
        "\n",
        "    # log_q_z_x = q_z.log_prob(z)\n",
        "\n",
        "    # if model.distribution == 'normal':\n",
        "        # log_q_z_x = log_q_z_x.sum(-1)\n",
        "\n",
        "    # return ((log_p_x_z + log_p_z - log_q_z_x).t().logsumexp(-1) - np.log(n)).mean()"
      ],
      "metadata": {
        "id": "gke1WXT5160W"
      },
      "execution_count": 39,
      "outputs": []
    },
    {
      "cell_type": "code",
      "source": [
        "def log_likelihood(model, x, n=10):\n",
        "  z_mean, z_var = model.encode(x)\n",
        "  q_z, p_z = model.reparameterize(z_mean, z_var)\n",
        "  z = q_z.rsample(torch.Size([n]))\n",
        "  mu_, sigma_square_ = model.decode(z)\n",
        "\n",
        "  # In scPhere used tf.reduce_mean()\n",
        "  return torch.mean(log_likelihood_student(x, mu_, sigma_square_, df=2.0))"
      ],
      "metadata": {
        "id": "Iz0Rh4S2pSPf"
      },
      "execution_count": 40,
      "outputs": []
    },
    {
      "cell_type": "code",
      "source": [
        "def log_likelihood_nb(x, mu, sigma, eps=1e-16):\n",
        "\n",
        "    log_mu_sigma = torch.log(mu + sigma + eps)\n",
        "\n",
        "    ll = torch.lgamma(x + sigma) - torch.lgamma(sigma) - \\\n",
        "        torch.lgamma(x + 1) + sigma * torch.log(sigma + eps) - \\\n",
        "        sigma * log_mu_sigma + x * torch.log(mu + eps) - x * log_mu_sigma\n",
        "\n",
        "    return torch.mean(ll, dim=-1)"
      ],
      "metadata": {
        "id": "dCVaZl4R3g9s"
      },
      "execution_count": 41,
      "outputs": []
    },
    {
      "cell_type": "code",
      "source": [
        "def log_likelihood_student(x, mu, sigma_square, df=2.0):\n",
        "    sigma = torch.sqrt(sigma_square)\n",
        "    \n",
        "    dist = torch.distributions.studentT.StudentT(df=df,\n",
        "                                             loc=mu,\n",
        "                                             scale=sigma)\n",
        "    \n",
        "    # return tf.reduce_sum(dist.log_prob(x), reduction_indices=1)\n",
        "    return torch.mean(dist.log_prob(x), dim=1)"
      ],
      "metadata": {
        "id": "Sf9tZtDwzsNT"
      },
      "execution_count": 42,
      "outputs": []
    },
    {
      "cell_type": "markdown",
      "source": [
        "Training and testing"
      ],
      "metadata": {
        "id": "HlO0gRx5elSF"
      }
    },
    {
      "cell_type": "code",
      "source": [
        "def train(model, optimizer):\n",
        "    # for i, (x_mb, y_mb) in enumerate(train_loader):\n",
        "    for i in range(0, X.shape[0], 128):\n",
        "    # for x in X:\n",
        "            if i+128 < X.shape[0]:\n",
        "              x = X[i: i+128, :]\n",
        "            else:\n",
        "              x = X[i:, :]\n",
        "            optimizer.zero_grad()\n",
        "            \n",
        "            # dynamic binarization\n",
        "            # x_mb = (x_mb > torch.distributions.Uniform(0, 1).sample(x_mb.shape)).float()\n",
        "\n",
        "            # _, (q_z, p_z), _, x_mb_ = model(x_mb.reshape(-1, 784))\n",
        "            (z_mean, z_var), (q_z, p_z), _, mu, sigma_square = model(x)\n",
        "            \n",
        "            # loss_recon = nn.BCEWithLogitsLoss(reduction='none')(x_reconstructed, x).sum(-1).mean()\n",
        "            # loss_recon = log_likelihood(x, z_mean, z_var)\n",
        "            # library_size = torch.sum(x, dim=1, keepdim=True)\n",
        "            # mu = mu * library_size\n",
        "            # loss_recon = log_likelihood_nb(\n",
        "                # x,\n",
        "                # mu,\n",
        "                # sigma_square,\n",
        "            # ).sum(-1).mean()\n",
        "            # loss_recon = torch.mean(log_likelihood_nb(x, mu, sigma_square, eps=1e-10))\n",
        "            loss_recon = torch.mean(log_likelihood_student(x, mu, sigma_square, df=5.0))\n",
        "\n",
        "            if model.distribution == 'normal':\n",
        "                loss_KL = torch.distributions.kl.kl_divergence(q_z, p_z).sum(-1).mean()\n",
        "            elif model.distribution == 'vmf':\n",
        "                loss_KL = torch.distributions.kl.kl_divergence(q_z, p_z).mean()\n",
        "            else:\n",
        "                raise NotImplemented\n",
        "            loss = loss_recon - loss_KL\n",
        "            # loss = loss_recon + loss_KL\n",
        "\n",
        "            loss.backward()\n",
        "            optimizer.step()"
      ],
      "metadata": {
        "id": "eF8UqZkH2vnm"
      },
      "execution_count": 47,
      "outputs": []
    },
    {
      "cell_type": "code",
      "source": [
        "def test(model, optimizer):\n",
        "    print_ = defaultdict(list)\n",
        "    # for x_mb, y_mb in test_loader:\n",
        "    for i in range(0, X.shape[0], 128):   \n",
        "        if i+128 < X.shape[0]:\n",
        "          x = X[i :i+128, :]\n",
        "        else:\n",
        "          x = X[i:, :]\n",
        "        # dynamic binarization\n",
        "        # x_mb = (x_mb > torch.distributions.Uniform(0, 1).sample(x_mb.shape)).float()\n",
        "        \n",
        "        # _, (q_z, p_z), _, x_mb_ = model(x_mb.reshape(-1, 784))\n",
        "        _, (q_z, p_z), _, mu_, sigma_square_ = model(x)\n",
        "        \n",
        "        # print_['recon loss'].append(float(nn.BCEWithLogitsLoss(reduction='none')(x_mb_,\n",
        "            # x_mb.reshape(-1, 784)).sum(-1).mean().data))\n",
        "        # library_size = torch.sum(x, dim=1, keepdim=True)\n",
        "        # mu_ = mu_* library_size\n",
        "        # print_['recon loss'].append(float(torch.mean(log_likelihood_nb(x, mu_, sigma_square_)).data))\n",
        "        print_['recon loss'].append(float(torch.mean(log_likelihood_student(x, mu_, sigma_square_, df=5.0)).data))\n",
        "\n",
        "        if model.distribution == 'normal':\n",
        "            print_['KL'].append(float(torch.distributions.kl.kl_divergence(q_z, p_z).sum(-1).mean().data))\n",
        "        elif model.distribution == 'vmf':\n",
        "            print_['KL'].append(float(torch.distributions.kl.kl_divergence(q_z, p_z).mean().data))\n",
        "        else:\n",
        "            raise NotImplemented\n",
        "        \n",
        "        print_['ELBO'].append(- print_['recon loss'][-1] - print_['KL'][-1])\n",
        "        print_['LL'].append(float(log_likelihood(model, x).data))\n",
        "    \n",
        "    print({k: np.mean(v) for k, v in print_.items()})"
      ],
      "metadata": {
        "id": "K9bJ7H6XfwBq"
      },
      "execution_count": 44,
      "outputs": []
    },
    {
      "cell_type": "code",
      "source": [
        "# hidden dimension and dimension of latent space\n",
        "H_DIM = 128\n",
        "Z_DIM = 5\n",
        "torch.autograd.set_detect_anomaly(True)\n",
        "X = torch.tensor(adata.X)\n",
        "# normal VAE\n",
        "modelN = ModelVAE(n_gene=1838, z_dim=Z_DIM, encoder_layer=[256, 128], decoder_layer=[128, 256], distribution='normal', x=X)\n",
        "print(modelN.parameters)\n",
        "optimizerN = optim.Adam(modelN.parameters(), lr=1e-3)\n",
        "\n",
        "print('##### Normal VAE #####')\n",
        "\n",
        "# training for 1 epoch\n",
        "train(modelN, optimizerN)\n",
        "\n",
        "# test\n",
        "test(modelN, optimizerN)\n",
        "\n",
        "print()\n",
        "\n",
        "# hyper-spherical  VAE\n",
        "modelS = ModelVAE(n_gene=1838, z_dim=Z_DIM + 1, encoder_layer=[256, 128], decoder_layer=[128, 256], distribution='vmf')\n",
        "print(modelS.parameters)\n",
        "optimizerS = optim.Adam(modelS.parameters(), lr=1e-3)\n",
        "\n",
        "print('##### Hyper-spherical VAE #####')\n",
        "\n",
        "# training for 1 epoch\n",
        "train(modelS, optimizerS)\n",
        "\n",
        "# test\n",
        "test(modelS, optimizerS)"
      ],
      "metadata": {
        "colab": {
          "base_uri": "https://localhost:8080/"
        },
        "outputId": "e7b1d51a-04a8-4552-e0e8-16623fd0394e",
        "id": "Ukyldi02X499"
      },
      "execution_count": 87,
      "outputs": [
        {
          "output_type": "stream",
          "name": "stdout",
          "text": [
            "<bound method Module.parameters of ModelVAE(\n",
            "  (encoder_layer): ModuleList(\n",
            "    (0): Linear(in_features=1838, out_features=256, bias=True)\n",
            "    (1): Linear(in_features=256, out_features=128, bias=True)\n",
            "  )\n",
            "  (decoder_layer): ModuleList(\n",
            "    (0): Linear(in_features=5, out_features=128, bias=True)\n",
            "    (1): Linear(in_features=128, out_features=256, bias=True)\n",
            "  )\n",
            "  (fc_mean): Linear(in_features=128, out_features=5, bias=True)\n",
            "  (fc_var): Linear(in_features=128, out_features=5, bias=True)\n",
            "  (mu_layer): Linear(in_features=256, out_features=1838, bias=True)\n",
            "  (var_layer): Linear(in_features=256, out_features=1838, bias=True)\n",
            ")>\n",
            "##### Normal VAE #####\n",
            "{'recon loss': -15.957881200881232, 'KL': 219.99974278041296, 'ELBO': -204.0418615795317, 'LL': -9.664363906497048}\n",
            "\n",
            "<bound method Module.parameters of ModelVAE(\n",
            "  (encoder_layer): ModuleList(\n",
            "    (0): Linear(in_features=1838, out_features=256, bias=True)\n",
            "    (1): Linear(in_features=256, out_features=128, bias=True)\n",
            "  )\n",
            "  (decoder_layer): ModuleList(\n",
            "    (0): Linear(in_features=6, out_features=128, bias=True)\n",
            "    (1): Linear(in_features=128, out_features=256, bias=True)\n",
            "  )\n",
            "  (fc_mean): Linear(in_features=128, out_features=6, bias=True)\n",
            "  (fc_var): Linear(in_features=128, out_features=1, bias=True)\n",
            "  (mu_layer): Linear(in_features=256, out_features=1838, bias=True)\n",
            "  (var_layer): Linear(in_features=256, out_features=1838, bias=True)\n",
            ")>\n",
            "##### Hyper-spherical VAE #####\n",
            "{'recon loss': -3.316486108870733, 'KL': 2.8655729634421214, 'ELBO': 0.4509131454286121, 'LL': -3.043076265425909}\n"
          ]
        }
      ]
    }
  ]
}